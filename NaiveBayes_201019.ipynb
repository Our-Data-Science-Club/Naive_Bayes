{
 "cells": [
  {
   "cell_type": "markdown",
   "metadata": {},
   "source": [
    "# Naive Bayes (the easy way)"
   ]
  },
  {
   "cell_type": "markdown",
   "metadata": {},
   "source": [
    "We'll cheat by using sklearn.naive_bayes to train a spam classifier! Most of the code is just loading our training data into a pandas DataFrame that we can play with:"
   ]
  },
  {
   "cell_type": "code",
   "execution_count": 1,
   "metadata": {},
   "outputs": [],
   "source": [
    "### Standard library ###\n",
    "# import random\n",
    "# import math\n",
    "import time\n",
    "#import tqdm\n",
    "import os\n",
    "import io\n",
    "\n",
    "### Third-party libraries ### \n",
    "import numpy\n",
    "from pandas import DataFrame\n",
    "import matplotlib.pyplot as plt\n",
    "import seaborn as sns"
   ]
  },
  {
   "cell_type": "markdown",
   "metadata": {},
   "source": [
    "---\n",
    "### Funções utilizadas pelo programa."
   ]
  },
  {
   "cell_type": "code",
   "execution_count": 2,
   "metadata": {},
   "outputs": [],
   "source": [
    "def readFiles(path):\n",
    "    for root, dirnames, filenames in os.walk(path):\n",
    "        for filename in filenames:\n",
    "            path = os.path.join(root, filename)\n",
    "\n",
    "            inBody = False\n",
    "            lines = []\n",
    "            f = io.open(path, 'r', encoding='latin1')\n",
    "            for line in f:\n",
    "                if inBody:\n",
    "                    lines.append(line)\n",
    "                elif line == '\\n':\n",
    "                    inBody = True\n",
    "            f.close()\n",
    "            message = '\\n'.join(lines)\n",
    "            yield path, message\n",
    "\n",
    "\n",
    "def dataFrameFromDirectory(path, classification):\n",
    "    rows = []\n",
    "    index = []\n",
    "    for filename, message in readFiles(path):\n",
    "        rows.append({'message': message, 'class': classification})\n",
    "        index.append(filename)\n",
    "\n",
    "    return DataFrame(rows, index=index)"
   ]
  },
  {
   "cell_type": "code",
   "execution_count": 3,
   "metadata": {},
   "outputs": [],
   "source": [
    "# Tic\n",
    "sys_start_time = time.perf_counter()"
   ]
  },
  {
   "cell_type": "markdown",
   "metadata": {},
   "source": [
    "---\n",
    "# 1. Loading data"
   ]
  },
  {
   "cell_type": "code",
   "execution_count": 4,
   "metadata": {},
   "outputs": [],
   "source": [
    "data = DataFrame({'message': [], 'class': []})\n",
    "\n",
    "data = data.append(dataFrameFromDirectory('emails/spam', 'spam'))\n",
    "data = data.append(dataFrameFromDirectory('emails/ham', 'ham'))"
   ]
  },
  {
   "cell_type": "markdown",
   "metadata": {},
   "source": [
    "---\n",
    "# 2. EDA"
   ]
  },
  {
   "cell_type": "markdown",
   "metadata": {},
   "source": [
    "Let's have a look at that DataFrame:"
   ]
  },
  {
   "cell_type": "code",
   "execution_count": 5,
   "metadata": {},
   "outputs": [
    {
     "name": "stdout",
     "output_type": "stream",
     "text": [
      "* Amostra da base:\n"
     ]
    },
    {
     "data": {
      "text/html": [
       "<div>\n",
       "<style scoped>\n",
       "    .dataframe tbody tr th:only-of-type {\n",
       "        vertical-align: middle;\n",
       "    }\n",
       "\n",
       "    .dataframe tbody tr th {\n",
       "        vertical-align: top;\n",
       "    }\n",
       "\n",
       "    .dataframe thead th {\n",
       "        text-align: right;\n",
       "    }\n",
       "</style>\n",
       "<table border=\"1\" class=\"dataframe\">\n",
       "  <thead>\n",
       "    <tr style=\"text-align: right;\">\n",
       "      <th></th>\n",
       "      <th>message</th>\n",
       "      <th>class</th>\n",
       "    </tr>\n",
       "  </thead>\n",
       "  <tbody>\n",
       "    <tr>\n",
       "      <td>emails/ham/00603.712b15c7b1e7bef7235068a3e4d9bd39</td>\n",
       "      <td>&gt;&gt;&gt;&gt;&gt; \"J\" == Justin Mason &lt;jm@jmason.org&gt; writ...</td>\n",
       "      <td>ham</td>\n",
       "    </tr>\n",
       "    <tr>\n",
       "      <td>emails/ham/01961.b47390d07cd4c2dba35176e9a948bac4</td>\n",
       "      <td>URL: http://jeremy.zawodny.com/blog/archives/0...</td>\n",
       "      <td>ham</td>\n",
       "    </tr>\n",
       "    <tr>\n",
       "      <td>emails/ham/02098.96a584164de1918fe146c1ef4012182e</td>\n",
       "      <td>URL: http://www.newsisfree.com/click/-1,839972...</td>\n",
       "      <td>ham</td>\n",
       "    </tr>\n",
       "    <tr>\n",
       "      <td>emails/spam/00147.1782d51354c31ea53db25ea927d5c51d</td>\n",
       "      <td>&lt;HTML&gt;&lt;HEAD&gt;&lt;TITLE&gt;Big and big&lt;/TITLE&gt;\\n\\n&lt;MET...</td>\n",
       "      <td>spam</td>\n",
       "    </tr>\n",
       "  </tbody>\n",
       "</table>\n",
       "</div>"
      ],
      "text/plain": [
       "                                                                                              message  \\\n",
       "emails/ham/00603.712b15c7b1e7bef7235068a3e4d9bd39   >>>>> \"J\" == Justin Mason <jm@jmason.org> writ...   \n",
       "emails/ham/01961.b47390d07cd4c2dba35176e9a948bac4   URL: http://jeremy.zawodny.com/blog/archives/0...   \n",
       "emails/ham/02098.96a584164de1918fe146c1ef4012182e   URL: http://www.newsisfree.com/click/-1,839972...   \n",
       "emails/spam/00147.1782d51354c31ea53db25ea927d5c51d  <HTML><HEAD><TITLE>Big and big</TITLE>\\n\\n<MET...   \n",
       "\n",
       "                                                   class  \n",
       "emails/ham/00603.712b15c7b1e7bef7235068a3e4d9bd39    ham  \n",
       "emails/ham/01961.b47390d07cd4c2dba35176e9a948bac4    ham  \n",
       "emails/ham/02098.96a584164de1918fe146c1ef4012182e    ham  \n",
       "emails/spam/00147.1782d51354c31ea53db25ea927d5c51d  spam  "
      ]
     },
     "execution_count": 5,
     "metadata": {},
     "output_type": "execute_result"
    }
   ],
   "source": [
    "print('* Amostra da base:')\n",
    "data.sample(4)"
   ]
  },
  {
   "cell_type": "code",
   "execution_count": 6,
   "metadata": {},
   "outputs": [
    {
     "data": {
      "text/plain": [
       "'emails/spam/00467.5b733c506b7165424a0d4a298e67970f'"
      ]
     },
     "execution_count": 6,
     "metadata": {},
     "output_type": "execute_result"
    }
   ],
   "source": [
    "data.index[0]"
   ]
  },
  {
   "cell_type": "code",
   "execution_count": 7,
   "metadata": {},
   "outputs": [
    {
     "data": {
      "text/plain": [
       "'This is a multipart MIME message.\\n\\n\\n\\n--= Multipart Boundary 0925021429\\n\\nContent-Type: text/plain;\\n\\n\\tcharset=\"ISO-8859-1\"\\n\\nContent-Transfer-Encoding: 8bit\\n\\n\\n\\n<html>\\n\\n\\n\\n<head>\\n\\n</head>\\n\\n\\n\\n<body>\\n\\n\\n\\n<p align=\"center\"><span style=\"font-size:7.5pt;font-family:Arial;color:black\">You\\n\\nare receiving this email because you opted-in to receive special offers from\\n\\nOptinDeals through one of our marketing partners. If you feel you have received\\n\\nthis email in error or do not wish to receive additional special offers, please\\n\\nreply to this email with the word &quot;remove&quot; in the subject line or\\n\\nfollow the unsubscribe instructions below.<o:p>\\n\\n</o:p>\\n\\n</span></p>\\n\\n<p><a href=\"http://www.inkjetrus.com/customer!.html\"><img border=\"0\" \\n\\nsrc=\"http://www.inkjetrus.com/clip%20art/toper.jpg\" width=\"800\" height=\"100\"></a>\\n\\n</p>\\n\\n<div align=\"center\">\\n\\n  <strong><font face=\"Arial\" size=\"6\">Incredible Deals on Inkjet Cartridges!\\n\\n</font></strong>\\n\\n</div>\\n\\n<div align=\"center\">\\n\\n  <strong><font face=\"Arial\" size=\"6\">Our Prices Start as low as $1.21</font>\\n\\n</strong>\\n\\n</div>\\n\\n<div align=\"center\">\\n\\n  <strong><font face=\"Arial\" size=\"6\">Check out some of our deals:</font></strong>\\n\\n</div>\\n\\n<div align=\"center\">\\n\\n  &nbsp;\\n\\n</div>\\n\\n<div align=\"center\">\\n\\n  <a href=\"http://www.inkjetrus.com/customer!.html\">\\n\\n  <img border=\"0\" src=\"http://www.inkjetrus.com/clip%20art/specs.gif\" width=\"439\" \\n\\nheight=\"191\">\\n\\n  </a>\\n\\n</div>\\n\\n<div align=\"center\">\\n\\n  &nbsp;\\n\\n</div>\\n\\n<div align=\"center\">\\n\\n  <font face=\"Arial\" size=\"2\"><strong>Check our web site for all the incredible\\n\\n  deals</strong></font>\\n\\n</div>\\n\\n<div align=\"center\">\\n\\n  &nbsp;\\n\\n</div>\\n\\n<div align=\"center\">\\n\\n  <a href=\"http://www.inkjetrus.com/customer!.html\">\\n\\n  <img border=\"0\" src=\"http://www.inkjetrus.com/clip%20art/clicknow.gif\" \\n\\nwidth=\"254\" height=\"25\">\\n\\n  </a>\\n\\n</div>\\n\\n<div align=\"center\">\\n\\n  &nbsp;\\n\\n</div>\\n\\n<div align=\"center\">\\n\\n  <strong><font face=\"Arial\">We have been selling only the best generic printer\\n\\n  cartridges for over 5 years, and all of our cartridges come with a 6 month\\n\\n  guarantee!</font></strong>\\n\\n</div>\\n\\n<div align=\"center\">\\n\\n  &nbsp;\\n\\n</div>\\n\\n<p align=\"center\">&nbsp;For your best price on cartridges shop at <a \\n\\nhref=\"http://www.inkjetrus.com/customer!.html\" EUDORA=\"AUTOURL\">\\n\\nhttp://www.inkjetrus.com/customer!.html</a></p>\\n\\n<p align=\"center\"><span style=\"font-size:7.5pt;font-family:Verdana;mso-bidi-font-\\n\\nfamily:Tahoma;\\n\\ncolor:black\">HOW TO UNSUBSCRIBE:<br>\\n\\nYou received this e-mail because you are registered at one of our web sites,<br>\\n\\nor at one of our partners\\' sites or are listed in one of several list\\n\\nsubscriptions.<br>\\n\\nIf you do not want to receive e-mail offers, or any email marketing from us<br>\\n\\nplease <a href=\"mailto:remove@acsmsupplies.com?subject=please%20remove%20me\" \\n\\ntarget=\"_blank\">click\\n\\nhere</a></span></p>\\n\\n\\n\\n</body>\\n\\n\\n\\n</html>\\n\\n\\n\\n--= Multipart Boundary 0925021429\\n\\nContent-Type: text/html;\\n\\n\\tcharset=\"ISO-8859-1\"\\n\\nContent-Transfer-Encoding: 8bit\\n\\n\\n\\n<html>\\n\\n\\n\\n<head>\\n\\n</head>\\n\\n\\n\\n<body>\\n\\n\\n\\n<p align=\"center\"><span\\n\\nstyle=\"font-size:7.5pt;font-family:Arial;color:black\">You\\n\\nare receiving this email because you opted-in to receive special offers from\\n\\nOptinDeals through one of our marketing partners. If you feel you have\\n\\nreceived\\n\\nthis email in error or do not wish to receive additional special offers,\\n\\nplease\\n\\nreply to this email with the word &quot;remove&quot; in the subject line or\\n\\nfollow the unsubscribe instructions below.<o:p>\\n\\n</o:p>\\n\\n</span></p>\\n\\n<p><a href=\"http://www.inkjetrus.com/customer!.html\"><img border=\"0\" \\n\\nsrc=\"http://www.inkjetrus.com/clip%20art/toper.jpg\" width=\"800\"\\n\\nheight=\"100\"></a>\\n\\n</p>\\n\\n<div align=\"center\">\\n\\n  <strong><font face=\"Arial\" size=\"6\">Incredible Deals on Inkjet Cartridges!\\n\\n</font></strong>\\n\\n</div>\\n\\n<div align=\"center\">\\n\\n  <strong><font face=\"Arial\" size=\"6\">Our Prices Start as low as\\n\\n$1.21</font>\\n\\n</strong>\\n\\n</div>\\n\\n<div align=\"center\">\\n\\n  <strong><font face=\"Arial\" size=\"6\">Check out some of our\\n\\ndeals:</font></strong>\\n\\n</div>\\n\\n<div align=\"center\">\\n\\n  &nbsp;\\n\\n</div>\\n\\n<div align=\"center\">\\n\\n  <a href=\"http://www.inkjetrus.com/customer!.html\">\\n\\n  <img border=\"0\" src=\"http://www.inkjetrus.com/clip%20art/specs.gif\"\\n\\nwidth=\"439\" \\n\\nheight=\"191\">\\n\\n  </a>\\n\\n</div>\\n\\n<div align=\"center\">\\n\\n  &nbsp;\\n\\n</div>\\n\\n<div align=\"center\">\\n\\n  <font face=\"Arial\" size=\"2\"><strong>Check our web site for all the\\n\\nincredible\\n\\n  deals</strong></font>\\n\\n</div>\\n\\n<div align=\"center\">\\n\\n  &nbsp;\\n\\n</div>\\n\\n<div align=\"center\">\\n\\n  <a href=\"http://www.inkjetrus.com/customer!.html\">\\n\\n  <img border=\"0\" src=\"http://www.inkjetrus.com/clip%20art/clicknow.gif\" \\n\\nwidth=\"254\" height=\"25\">\\n\\n  </a>\\n\\n</div>\\n\\n<div align=\"center\">\\n\\n  &nbsp;\\n\\n</div>\\n\\n<div align=\"center\">\\n\\n  <strong><font face=\"Arial\">We have been selling only the best generic\\n\\nprinter\\n\\n  cartridges for over 5 years, and all of our cartridges come with a 6 month\\n\\n  guarantee!</font></strong>\\n\\n</div>\\n\\n<div align=\"center\">\\n\\n  &nbsp;\\n\\n</div>\\n\\n<p align=\"center\">&nbsp;For your best price on cartridges shop at <a \\n\\nhref=\"http://www.inkjetrus.com/customer!.html\" EUDORA=\"AUTOURL\">\\n\\nhttp://www.inkjetrus.com/customer!.html</a></p>\\n\\n<p align=\"center\"><span\\n\\nstyle=\"font-size:7.5pt;font-family:Verdana;mso-bidi-font-\\n\\nfamily:Tahoma;\\n\\ncolor:black\">HOW TO UNSUBSCRIBE:<br>\\n\\nYou received this e-mail because you are registered at one of our web\\n\\nsites,<br>\\n\\nor at one of our partners\\' sites or are listed in one of several list\\n\\nsubscriptions.<br>\\n\\nIf you do not want to receive e-mail offers, or any email marketing from\\n\\nus<br>\\n\\nplease <a\\n\\nhref=\"mailto:remove@acsmsupplies.com?subject=please%20remove%20me\" \\n\\ntarget=\"_blank\">click\\n\\nhere</a></span></p>\\n\\n\\n\\n</body>\\n\\n\\n\\n</html>\\n\\n\\n\\n--= Multipart Boundary 0925021429--\\n\\n\\n\\n\\n'"
      ]
     },
     "execution_count": 7,
     "metadata": {},
     "output_type": "execute_result"
    }
   ],
   "source": [
    "data.iloc[0,0]"
   ]
  },
  {
   "cell_type": "code",
   "execution_count": 8,
   "metadata": {
    "scrolled": true
   },
   "outputs": [
    {
     "name": "stdout",
     "output_type": "stream",
     "text": [
      "* Tamanho da base: 3000 linhas x 2 colunas\n"
     ]
    }
   ],
   "source": [
    "df_size = data.shape\n",
    "print('* Tamanho da base: %d linhas x %d colunas' % (df_size[0],df_size[1]))"
   ]
  },
  {
   "cell_type": "code",
   "execution_count": 9,
   "metadata": {},
   "outputs": [
    {
     "name": "stdout",
     "output_type": "stream",
     "text": [
      "* Numero de elementos distintos de cada coluna:\n"
     ]
    },
    {
     "data": {
      "text/plain": [
       "message    2943\n",
       "class         2\n",
       "dtype: int64"
      ]
     },
     "execution_count": 9,
     "metadata": {},
     "output_type": "execute_result"
    }
   ],
   "source": [
    "print('* Numero de elementos distintos de cada coluna:')\n",
    "data.nunique()"
   ]
  },
  {
   "cell_type": "code",
   "execution_count": 10,
   "metadata": {},
   "outputs": [
    {
     "name": "stdout",
     "output_type": "stream",
     "text": [
      "* Verificando campos não preenchidos:\n"
     ]
    },
    {
     "data": {
      "text/plain": [
       "message    0\n",
       "class      0\n",
       "dtype: int64"
      ]
     },
     "execution_count": 10,
     "metadata": {},
     "output_type": "execute_result"
    }
   ],
   "source": [
    "print('* Verificando campos não preenchidos:')\n",
    "data.isna().sum()"
   ]
  },
  {
   "cell_type": "code",
   "execution_count": 11,
   "metadata": {},
   "outputs": [
    {
     "name": "stdout",
     "output_type": "stream",
     "text": [
      "* Tipos de valores da base:\n"
     ]
    },
    {
     "data": {
      "text/plain": [
       "message    object\n",
       "class      object\n",
       "dtype: object"
      ]
     },
     "execution_count": 11,
     "metadata": {},
     "output_type": "execute_result"
    }
   ],
   "source": [
    "print('* Tipos de valores da base:')\n",
    "data.dtypes"
   ]
  },
  {
   "cell_type": "code",
   "execution_count": 12,
   "metadata": {},
   "outputs": [
    {
     "name": "stdout",
     "output_type": "stream",
     "text": [
      "Fração de spam: 16.7% \n",
      "Fração de ham: 83.3% \n"
     ]
    },
    {
     "data": {
      "image/png": "[encoded data removed]",
      "text/plain": [
       "<Figure size 432x288 with 1 Axes>"
      ]
     },
     "metadata": {
      "needs_background": "light"
     },
     "output_type": "display_data"
    }
   ],
   "source": [
    "### Verificando o balanço entre as classes (Classificador apenas!!): \n",
    "spam = (data['class'] == 'spam').sum()/data.shape[0]\n",
    "print('Fração de spam: %0.1f%% ' % (spam*100))  \n",
    "print('Fração de ham: %0.1f%% ' % ((1-spam)*100))\n",
    "plt.figure(figsize=(6,4))\n",
    "plt.rc('font',size=14)\n",
    "sns.countplot(x='class', data=data);"
   ]
  },
  {
   "cell_type": "markdown",
   "metadata": {},
   "source": [
    "---\n",
    "# 3. Dataprep"
   ]
  },
  {
   "cell_type": "markdown",
   "metadata": {},
   "source": [
    "## 3.1 Separando os features e targets:"
   ]
  },
  {
   "cell_type": "code",
   "execution_count": 13,
   "metadata": {},
   "outputs": [],
   "source": [
    "#df_clf = train.copy()\n",
    "#X = data.drop(['class'], axis=1).values\n",
    "\n",
    "X = data['message'].values\n",
    "y = data['class'].values"
   ]
  },
  {
   "cell_type": "markdown",
   "metadata": {},
   "source": [
    "## 3.2 Separando os dados em treino e teste"
   ]
  },
  {
   "cell_type": "code",
   "execution_count": 14,
   "metadata": {},
   "outputs": [],
   "source": [
    "from sklearn.model_selection import train_test_split\n",
    "\n",
    "X_train, X_test, y_train, y_test = train_test_split(X, y, test_size=0.1, random_state=23, stratify=y)"
   ]
  },
  {
   "cell_type": "code",
   "execution_count": 15,
   "metadata": {},
   "outputs": [
    {
     "data": {
      "text/plain": [
       "(2700,)"
      ]
     },
     "execution_count": 15,
     "metadata": {},
     "output_type": "execute_result"
    }
   ],
   "source": [
    "X_train.shape"
   ]
  },
  {
   "cell_type": "code",
   "execution_count": 16,
   "metadata": {},
   "outputs": [
    {
     "data": {
      "text/plain": [
       "(300,)"
      ]
     },
     "execution_count": 16,
     "metadata": {},
     "output_type": "execute_result"
    }
   ],
   "source": [
    "X_test.shape"
   ]
  },
  {
   "cell_type": "markdown",
   "metadata": {},
   "source": [
    "## 3.3 Criando o vetor de palavras"
   ]
  },
  {
   "cell_type": "markdown",
   "metadata": {},
   "source": [
    "Now we will use a CountVectorizer to split up each message into its list of words, and throw that into a MultinomialNB classifier. Call fit() and we've got a trained spam filter ready to go! It's just that easy."
   ]
  },
  {
   "cell_type": "code",
   "execution_count": 17,
   "metadata": {},
   "outputs": [],
   "source": [
    "from sklearn.feature_extraction.text import CountVectorizer"
   ]
  },
  {
   "cell_type": "code",
   "execution_count": 18,
   "metadata": {},
   "outputs": [],
   "source": [
    "vectorizer = CountVectorizer()\n",
    "X_train = vectorizer.fit_transform(X_train)\n",
    "X_test = vectorizer.transform(X_test)"
   ]
  },
  {
   "cell_type": "code",
   "execution_count": 19,
   "metadata": {},
   "outputs": [
    {
     "data": {
      "text/plain": [
       "(2700, 61043)"
      ]
     },
     "execution_count": 19,
     "metadata": {},
     "output_type": "execute_result"
    }
   ],
   "source": [
    "X_train.shape"
   ]
  },
  {
   "cell_type": "code",
   "execution_count": 20,
   "metadata": {},
   "outputs": [],
   "source": [
    "#print(X_train[1000:1010])"
   ]
  },
  {
   "cell_type": "raw",
   "metadata": {},
   "source": [
    "# Original do curso. \n",
    "\n",
    "vectorizer = CountVectorizer()\n",
    "counts = vectorizer.fit_transform(data['message'].values)\n",
    "\n",
    "counts"
   ]
  },
  {
   "cell_type": "markdown",
   "metadata": {},
   "source": [
    "---\n",
    "# 4. Machine Learning models"
   ]
  },
  {
   "cell_type": "code",
   "execution_count": 21,
   "metadata": {},
   "outputs": [],
   "source": [
    "from sklearn.naive_bayes import MultinomialNB"
   ]
  },
  {
   "cell_type": "code",
   "execution_count": 22,
   "metadata": {},
   "outputs": [
    {
     "data": {
      "text/plain": [
       "MultinomialNB(alpha=1.0, class_prior=None, fit_prior=True)"
      ]
     },
     "execution_count": 22,
     "metadata": {},
     "output_type": "execute_result"
    }
   ],
   "source": [
    "#targets = data['class'].values\n",
    "#classifier.fit(counts, targets)\n",
    "\n",
    "classifier = MultinomialNB()\n",
    "classifier.fit(X_train,y_train)\n"
   ]
  },
  {
   "cell_type": "markdown",
   "metadata": {},
   "source": [
    "# 5. Metrics - Model evaluation"
   ]
  },
  {
   "cell_type": "code",
   "execution_count": 23,
   "metadata": {},
   "outputs": [],
   "source": [
    "from sklearn.model_selection import cross_val_predict\n",
    "y_test_pred = cross_val_predict(classifier, X_test, y_test,cv=3)"
   ]
  },
  {
   "cell_type": "code",
   "execution_count": 24,
   "metadata": {},
   "outputs": [
    {
     "name": "stdout",
     "output_type": "stream",
     "text": [
      "Accuracy: 0.92\n"
     ]
    }
   ],
   "source": [
    "from sklearn.metrics import accuracy_score\n",
    "acc = accuracy_score(y_test, y_test_pred)\n",
    "print('Accuracy: %.2f' % acc)"
   ]
  },
  {
   "cell_type": "code",
   "execution_count": 25,
   "metadata": {},
   "outputs": [],
   "source": [
    "# Função para transformar classificação ham e spam em 0 e 1. \n",
    "def zeros_uns(vetor):\n",
    "    logic = vetor == 'spam'  # = 1 Positive\n",
    "    return logic.astype(int)"
   ]
  },
  {
   "cell_type": "code",
   "execution_count": 26,
   "metadata": {},
   "outputs": [
    {
     "name": "stdout",
     "output_type": "stream",
     "text": [
      "Confusion Matrix: \n",
      " [[249   1]\n",
      " [ 23  27]]\n",
      "Precision: 0.96\n",
      "Recall:    0.54\n",
      "F1 Score:  0.69\n"
     ]
    }
   ],
   "source": [
    "from sklearn.metrics import confusion_matrix, precision_score, recall_score, f1_score\n",
    "print(\"Confusion Matrix: \\n\", confusion_matrix(y_test, y_test_pred ))\n",
    "# [ TN  FP ]\n",
    "# [ FN  TP ]\n",
    "\n",
    "# fração de acerto do classificador ~ Precision = TP / (TP+FP)\n",
    "print(\"Precision: %.2f\" % precision_score(zeros_uns(y_test), zeros_uns(y_test_pred), average='binary'))\n",
    "\n",
    "# fração de valores corretos detectados ~ Recall = TP / (TP+FN)\n",
    "print(\"Recall:    %.2f\" % recall_score(zeros_uns(y_test), zeros_uns(y_test_pred), average='binary'))\n",
    "\n",
    "# Media ponderada entre Precision e Recall\n",
    "print(\"F1 Score:  %.2f\" % f1_score(zeros_uns(y_test), zeros_uns(y_test_pred) ))#, average='binary'))"
   ]
  },
  {
   "cell_type": "markdown",
   "metadata": {},
   "source": [
    "---\n",
    "# 6. Predictions"
   ]
  },
  {
   "cell_type": "markdown",
   "metadata": {},
   "source": [
    "Let's try it out:"
   ]
  },
  {
   "cell_type": "code",
   "execution_count": 27,
   "metadata": {},
   "outputs": [],
   "source": [
    "examples = ['Free Viagra now!!!', \"Hi Bob, how about a game of golf tomorrow?\",\n",
    "            \"You are now free to go!\",\"My father uses viagra everyday.\",\n",
    "           'Free viagra and sex now!!', 'Free sex and viagra!!']"
   ]
  },
  {
   "cell_type": "code",
   "execution_count": 28,
   "metadata": {},
   "outputs": [],
   "source": [
    "example_counts = vectorizer.transform(examples)\n",
    "predictions = classifier.predict(example_counts)\n",
    "#predictions"
   ]
  },
  {
   "cell_type": "code",
   "execution_count": 29,
   "metadata": {
    "scrolled": true
   },
   "outputs": [
    {
     "name": "stdout",
     "output_type": "stream",
     "text": [
      "Free Viagra now!!!  ~~>  spam\n",
      "Hi Bob, how about a game of golf tomorrow?  ~~>  ham\n",
      "You are now free to go!  ~~>  ham\n",
      "My father uses viagra everyday.  ~~>  ham\n",
      "Free viagra and sex now!!  ~~>  ham\n",
      "Free sex and viagra!!  ~~>  ham\n"
     ]
    }
   ],
   "source": [
    "for i in range(len(examples)):\n",
    "    print(examples[i],' ~~> ', predictions[i])"
   ]
  },
  {
   "cell_type": "markdown",
   "metadata": {},
   "source": [
    "---"
   ]
  },
  {
   "cell_type": "code",
   "execution_count": 30,
   "metadata": {},
   "outputs": [
    {
     "name": "stdout",
     "output_type": "stream",
     "text": [
      "\n",
      " \n",
      "\n",
      "Elapsed time: 5.4 s\n"
     ]
    }
   ],
   "source": [
    "#Toc\n",
    "delta_t = time.perf_counter() - sys_start_time\n",
    "\n",
    "print('\\n \\n')\n",
    "if delta_t > 3600:\n",
    "    delta_t = delta_t / 3600\n",
    "    print(\"Elapsed time: %.1f hours\" % ((delta_t)))\n",
    "elif delta_t > 60 and delta_t <= 3600:\n",
    "    delta_t = delta_t / 60\n",
    "    print(\"Elapsed time: %.1f min\" % ((delta_t)))\n",
    "else:\n",
    "    print(\"Elapsed time: %.1f s\" % ((delta_t)))"
   ]
  },
  {
   "cell_type": "markdown",
   "metadata": {},
   "source": [
    "## Activity"
   ]
  },
  {
   "cell_type": "markdown",
   "metadata": {},
   "source": [
    "Our data set is small, so our spam classifier isn't actually very good. Try running some different test emails through it and see if you get the results you expect.\n",
    "\n",
    "If you really want to challenge yourself, try applying train/test to this spam classifier - see how well it can predict some subset of the ham and spam emails."
   ]
  },
  {
   "cell_type": "code",
   "execution_count": null,
   "metadata": {},
   "outputs": [],
   "source": []
  }
 ],
 "metadata": {
  "kernelspec": {
   "display_name": "Python 3",
   "language": "python",
   "name": "python3"
  },
  "language_info": {
   "codemirror_mode": {
    "name": "ipython",
    "version": 3
   },
   "file_extension": ".py",
   "mimetype": "text/x-python",
   "name": "python",
   "nbconvert_exporter": "python",
   "pygments_lexer": "ipython3",
   "version": "3.7.4"
  }
 },
 "nbformat": 4,
 "nbformat_minor": 1
}
