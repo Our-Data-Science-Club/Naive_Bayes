{
 "cells": [
  {
   "cell_type": "code",
   "execution_count": 1,
   "metadata": {},
   "outputs": [
    {
     "data": {
      "text/html": [
       "<div>\n",
       "<style scoped>\n",
       "    .dataframe tbody tr th:only-of-type {\n",
       "        vertical-align: middle;\n",
       "    }\n",
       "\n",
       "    .dataframe tbody tr th {\n",
       "        vertical-align: top;\n",
       "    }\n",
       "\n",
       "    .dataframe thead th {\n",
       "        text-align: right;\n",
       "    }\n",
       "</style>\n",
       "<table border=\"1\" class=\"dataframe\">\n",
       "  <thead>\n",
       "    <tr style=\"text-align: right;\">\n",
       "      <th></th>\n",
       "      <th>message</th>\n",
       "      <th>class</th>\n",
       "    </tr>\n",
       "  </thead>\n",
       "  <tbody>\n",
       "    <tr>\n",
       "      <th>../../emails/ham/01843.ce0f26c22efed433edbce217b1e56331</th>\n",
       "      <td>URL: http://scriptingnews.userland.com/backiss...</td>\n",
       "      <td>ham</td>\n",
       "    </tr>\n",
       "    <tr>\n",
       "      <th>../../emails/ham/02297.a0f08a4cc518d9c666dffef38f4b3076</th>\n",
       "      <td>URL: http://www.newsisfree.com/click/-6,858259...</td>\n",
       "      <td>ham</td>\n",
       "    </tr>\n",
       "    <tr>\n",
       "      <th>../../emails/ham/00062.009f5a1a8fa88f0b38299ad01562bb37</th>\n",
       "      <td>(This list is sponsored by Ironclad Networks h...</td>\n",
       "      <td>ham</td>\n",
       "    </tr>\n",
       "    <tr>\n",
       "      <th>../../emails/ham/02202.fd6cdebf0762194039aed87bb12a8cc9</th>\n",
       "      <td>URL: http://boingboing.net/#85518715\\n\\nDate: ...</td>\n",
       "      <td>ham</td>\n",
       "    </tr>\n",
       "    <tr>\n",
       "      <th>../../emails/ham/00555.4139b207075574b3774942a3a42013d8</th>\n",
       "      <td>&gt;&gt;&gt;&gt;&gt; \"U\" == Udhay Shankar N &lt;Udhay&gt; writes:\\n...</td>\n",
       "      <td>ham</td>\n",
       "    </tr>\n",
       "  </tbody>\n",
       "</table>\n",
       "</div>"
      ],
      "text/plain": [
       "                                                                                              message  \\\n",
       "../../emails/ham/01843.ce0f26c22efed433edbce217...  URL: http://scriptingnews.userland.com/backiss...   \n",
       "../../emails/ham/02297.a0f08a4cc518d9c666dffef3...  URL: http://www.newsisfree.com/click/-6,858259...   \n",
       "../../emails/ham/00062.009f5a1a8fa88f0b38299ad0...  (This list is sponsored by Ironclad Networks h...   \n",
       "../../emails/ham/02202.fd6cdebf0762194039aed87b...  URL: http://boingboing.net/#85518715\\n\\nDate: ...   \n",
       "../../emails/ham/00555.4139b207075574b3774942a3...  >>>>> \"U\" == Udhay Shankar N <Udhay> writes:\\n...   \n",
       "\n",
       "                                                   class  \n",
       "../../emails/ham/01843.ce0f26c22efed433edbce217...   ham  \n",
       "../../emails/ham/02297.a0f08a4cc518d9c666dffef3...   ham  \n",
       "../../emails/ham/00062.009f5a1a8fa88f0b38299ad0...   ham  \n",
       "../../emails/ham/02202.fd6cdebf0762194039aed87b...   ham  \n",
       "../../emails/ham/00555.4139b207075574b3774942a3...   ham  "
      ]
     },
     "execution_count": 1,
     "metadata": {},
     "output_type": "execute_result"
    }
   ],
   "source": [
    "## data reading\n",
    "\n",
    "from ipynb.fs.full.my_functions import *\n",
    "## importa biblioteca do Kane para ler os emails\n",
    "\n",
    "from pandas import DataFrame\n",
    "from pandas import concat\n",
    "import numpy as np\n",
    "from matplotlib import *\n",
    "\n",
    "\n",
    "spam = DataFrame({'message': [], 'class': []})\n",
    "ham = DataFrame({'message': [], 'class': []})\n",
    "\n",
    "spam = dataFrameFromDirectory('../../emails/spam', 'spam')\n",
    "ham = dataFrameFromDirectory('../../emails/ham', 'ham')\n",
    "\n",
    "spam.head()\n",
    "ham.head()"
   ]
  },
  {
   "cell_type": "code",
   "execution_count": 2,
   "metadata": {},
   "outputs": [
    {
     "name": "stdout",
     "output_type": "stream",
     "text": [
      "2500\n",
      "500\n"
     ]
    }
   ],
   "source": [
    "print(ham.shape[0])\n",
    "print(spam.shape[0])\n"
   ]
  },
  {
   "cell_type": "code",
   "execution_count": 3,
   "metadata": {},
   "outputs": [
    {
     "name": "stdout",
     "output_type": "stream",
     "text": [
      "(2400, 2)\n",
      "(600, 2)\n",
      "                                                                                              message  \\\n",
      "../../emails/ham/02020.c4892988e3528bb4cd4fa0e1...  URL: http://www.newsisfree.com/click/-4,828887...   \n",
      "../../emails/ham/01738.780eecf7f0db1db00bd0a624...  [Skip Montanaro]\\n\\n> Because I get mail throu...   \n",
      "../../emails/spam/00154.b6c448ccff434e2dbe2c7c2...  On January 1st 2002, the European countries be...   \n",
      "../../emails/ham/01813.2711af4b8a31e4ff0c38fe92...  \\n\\nForwarded-by: Monty Solomon <monty@roscom....   \n",
      "../../emails/ham/00606.9733a34d34069bbc9671b029...  \\n\\n\\n\\n> All else being equal, the terminal v...   \n",
      "\n",
      "                                                   class  \n",
      "../../emails/ham/02020.c4892988e3528bb4cd4fa0e1...   ham  \n",
      "../../emails/ham/01738.780eecf7f0db1db00bd0a624...   ham  \n",
      "../../emails/spam/00154.b6c448ccff434e2dbe2c7c2...  spam  \n",
      "../../emails/ham/01813.2711af4b8a31e4ff0c38fe92...   ham  \n",
      "../../emails/ham/00606.9733a34d34069bbc9671b029...   ham  \n",
      "                                                                                              message  \\\n",
      "../../emails/ham/02455.8cc0169c74f4414a3be8a09d...  Terry W. Colvin fwded:\\n\\n>\"Leonard R. Cleavel...   \n",
      "../../emails/ham/01769.c9114afaa3ce4beff694dc5c...  use Perl Daily Newsletter\\n\\n\\n\\nIn this issue...   \n",
      "../../emails/ham/00795.ea9b54832cc27bb552e483a6...  On Friday, September 27, 2002, at 11:17 AM, Ji...   \n",
      "../../emails/spam/00326.5ec68244bb085cb140deb79...  <\u001b$B;v6H<T\u001b(B>\\n\\n\u001b$B;aL>\u001b(B:Vip-mail\\n\\n\u001b$BFM...   \n",
      "../../emails/ham/00061.9cc2b5c110807914cc6c3826...  On Thu, 2002-08-29 at 19:27, Barry Dexter A. G...   \n",
      "\n",
      "                                                   class  \n",
      "../../emails/ham/02455.8cc0169c74f4414a3be8a09d...   ham  \n",
      "../../emails/ham/01769.c9114afaa3ce4beff694dc5c...   ham  \n",
      "../../emails/ham/00795.ea9b54832cc27bb552e483a6...   ham  \n",
      "../../emails/spam/00326.5ec68244bb085cb140deb79...  spam  \n",
      "../../emails/ham/00061.9cc2b5c110807914cc6c3826...   ham  \n",
      "treino:\n",
      " ham     2000\n",
      "spam     400\n",
      "Name: class, dtype: int64\n",
      "teste:\n",
      " ham     500\n",
      "spam    100\n",
      "Name: class, dtype: int64\n"
     ]
    }
   ],
   "source": [
    "## data preparation\n",
    "\n",
    "## randomizando spam e ham para eliminar bias\n",
    "\n",
    "from sklearn.utils import shuffle\n",
    "\n",
    "ham  = shuffle(ham)\n",
    "spam = shuffle(spam)\n",
    "\n",
    "#spliting into train (80%) and test (20%)\n",
    "\n",
    "train = ham[:int(ham.shape[0]*.8)]\n",
    "train = train.append(spam[:int(spam.shape[0]*.8)])\n",
    "\n",
    "test = ham[int(ham.shape[0]*.8):]\n",
    "test = test.append(spam[int(spam.shape[0]*.8):])\n",
    "\n",
    "## desnecessario, soh pra dar mais uma embaralhada\n",
    "train = shuffle(train)\n",
    "test  = shuffle(test)\n",
    "\n",
    "print(train.shape)\n",
    "print(test.shape)\n",
    "\n",
    "print(train.head())\n",
    "print(test.head())\n",
    "\n",
    "print(\"treino:\\n\",train[\"class\"].value_counts())\n",
    "print(\"teste:\\n\",test[\"class\"].value_counts())"
   ]
  },
  {
   "cell_type": "code",
   "execution_count": 9,
   "metadata": {},
   "outputs": [
    {
     "name": "stdout",
     "output_type": "stream",
     "text": [
      "\n",
      "treino:\n",
      " (2400, 58500) \n",
      " ham/spam: 2000 / 400\n",
      "\n",
      "teste:\n",
      " (600, 58500) \n",
      " ham/spam: 500 / 100\n"
     ]
    }
   ],
   "source": [
    "## data preparation #2: mapping message into vector\n",
    "\n",
    "from sklearn.feature_extraction.text import CountVectorizer\n",
    "\n",
    "## vetorizando a base (mudanca da representação do email = vetor no espaço de palavras)\n",
    "## o classificador vai rodar sobre esse objeto/vetor versus valores \"class\"\n",
    "\n",
    "vectorizer = CountVectorizer()\n",
    "\n",
    "#print(\"Vocabulary: \", vectorizer.vocabulary_) \n",
    "\n",
    "trainvect = vectorizer.fit_transform(train['message'].values)\n",
    "traintarg = train['class'].values\n",
    "\n",
    "testvect = vectorizer.transform(test['message'].values)\n",
    "testtarg = test['class'].values\n",
    "\n",
    "##check de consistencia\n",
    "\n",
    "print(\"\\ntreino:\\n\",trainvect.shape,\"\\n ham/spam:\",sum(traintarg==\"ham\"),\"/\",sum(traintarg==\"spam\"))\n",
    "print(\"\\nteste:\\n\",testvect.shape,\"\\n ham/spam:\",sum(testtarg==\"ham\"),\"/\",sum(testtarg==\"spam\"))"
   ]
  },
  {
   "cell_type": "code",
   "execution_count": 5,
   "metadata": {},
   "outputs": [
    {
     "name": "stdout",
     "output_type": "stream",
     "text": [
      "(2400, 58500)\n",
      "['ham' 'ham' 'spam' ... 'ham' 'ham' 'spam']\n"
     ]
    }
   ],
   "source": [
    "## model training sobre o subconjunto de treino\n",
    "\n",
    "from sklearn.naive_bayes import MultinomialNB\n",
    "\n",
    "## classifier é o objeto [Multinomial Naive Bayes] que armazena o modelo\n",
    "\n",
    "classifier = MultinomialNB()\n",
    "classifier.fit(trainvect, traintarg)\n",
    "\n",
    "print(trainvect.shape)\n",
    "print(traintarg)"
   ]
  },
  {
   "cell_type": "code",
   "execution_count": 13,
   "metadata": {},
   "outputs": [
    {
     "name": "stdout",
     "output_type": "stream",
     "text": [
      "acertos:  565 / 600 =  94.2 %\n",
      "falso negativo = 33 =  5.5 % \n",
      "falso positivo =  2 = 0.3 %\n"
     ]
    }
   ],
   "source": [
    "## rodando o modelo treinado sobre o subconjunto de teste\n",
    "\n",
    "predictions = classifier.predict(testvect)\n",
    "#print(predictions)\n",
    "#print(predictions.shape)\n",
    "\n",
    "right = sum(testtarg == predictions)\n",
    "wrong =  predictions.shape[0] - right\n",
    "\n",
    "print('acertos: ', right , \"/\", predictions.shape[0],\n",
    "      '= ', \"{:.1f}\".format(right/predictions.shape[0]*100),\"%\")\n",
    "\n",
    "## classificando erros \n",
    "i = 0\n",
    "fnct = 0\n",
    "fpct = 0\n",
    "for each in predictions:\n",
    "    ## falso negativo\n",
    "    if each == 'ham' and testtarg[i] == 'spam':\n",
    "        fnct += 1\n",
    "\n",
    "    ## falso positivo\n",
    "    else: \n",
    "        if each == 'spam' and testtarg[i] == 'ham':\n",
    "            fpct += 1\n",
    "    i+=1\n",
    "\n",
    "totfs = fpct + fnct \n",
    "#print (\"check:\",totfs,wrong )\n",
    "#print ('falso negativo =', fnct,\"= \",\"{:.1f}\".format(100*fnct/wrong),\"%\",\n",
    "#       '\\nfalso positivo = ',fpct,\"=\",\"{:.1f}\".format(100*fpct/wrong),\"%\")\n",
    "\n",
    "print ('falso negativo =', fnct,\"= \",\"{:.1f}\".format(100*fnct/predictions.shape[0]),\"%\",\n",
    "       '\\nfalso positivo = ',fpct,\"=\",\"{:.1f}\".format(100*fpct/predictions.shape[0]),\"%\")"
   ]
  },
  {
   "cell_type": "code",
   "execution_count": 14,
   "metadata": {},
   "outputs": [
    {
     "name": "stdout",
     "output_type": "stream",
     "text": [
      "\n",
      "coeficiente de acurácia:\n",
      "0.9416666666666667\n",
      "\n",
      "matriz de confusão:\n",
      "[[498   2]\n",
      " [ 33  67]]\n"
     ]
    }
   ],
   "source": [
    "## redundancia: usando calculo via sklearn\n",
    "\n",
    "from sklearn.metrics import accuracy_score\n",
    "from sklearn.metrics import confusion_matrix\n",
    "\n",
    "acc_score = accuracy_score(testtarg,predictions)\n",
    "\n",
    "print(\"\\ncoeficiente de acurácia:\")\n",
    "print(acc_score)\n",
    "\n",
    "conf_mat = confusion_matrix(testtarg, predictions)\n",
    "\n",
    "print(\"\\nmatriz de confusão:\")\n",
    "print(conf_mat)\n"
   ]
  },
  {
   "cell_type": "code",
   "execution_count": 15,
   "metadata": {},
   "outputs": [
    {
     "name": "stdout",
     "output_type": "stream",
     "text": [
      "(6, 58500)\n",
      "['ham' 'spam' 'ham' 'ham' 'ham' 'spam']\n"
     ]
    }
   ],
   "source": [
    "## curiosidades\n",
    "## dummy test\n",
    "\n",
    "testes = ['xxxx91293712631027216302131','Free viagra', \"sex for free\",\"pay for sex\", \"I love you\",\"enlarge your penis\"]\n",
    "example_counts = vectorizer.transform(testes)\n",
    "print(example_counts.shape)\n",
    "predictions = classifier.predict(example_counts)\n",
    "print(predictions)"
   ]
  },
  {
   "cell_type": "code",
   "execution_count": null,
   "metadata": {},
   "outputs": [],
   "source": []
  },
  {
   "cell_type": "code",
   "execution_count": null,
   "metadata": {},
   "outputs": [],
   "source": []
  }
 ],
 "metadata": {
  "kernelspec": {
   "display_name": "Python 3",
   "language": "python",
   "name": "python3"
  },
  "language_info": {
   "codemirror_mode": {
    "name": "ipython",
    "version": 3
   },
   "file_extension": ".py",
   "mimetype": "text/x-python",
   "name": "python",
   "nbconvert_exporter": "python",
   "pygments_lexer": "ipython3",
   "version": "3.8.3"
  }
 },
 "nbformat": 4,
 "nbformat_minor": 4
}
